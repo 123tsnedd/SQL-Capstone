{
 "cells": [
  {
   "cell_type": "markdown",
   "metadata": {},
   "source": [
    "# Test file for sql command"
   ]
  },
  {
   "cell_type": "code",
   "execution_count": 1,
   "metadata": {},
   "outputs": [],
   "source": [
    "import sqlFile as sf"
   ]
  },
  {
   "cell_type": "code",
   "execution_count": 8,
   "metadata": {},
   "outputs": [
    {
     "data": {
      "text/plain": [
       "[(datetime.datetime(2023, 2, 27, 18, 8, 36, 79079),\n",
       "  'TELM',\n",
       "  'telem_telsee',\n",
       "  34697.0,\n",
       "  63.67,\n",
       "  -1.0,\n",
       "  -1.0,\n",
       "  33605.0,\n",
       "  82.26,\n",
       "  -1.0,\n",
       "  -1.0,\n",
       "  34206.0,\n",
       "  54.9,\n",
       "  -1.0,\n",
       "  -1.0)]"
      ]
     },
     "execution_count": 8,
     "metadata": {},
     "output_type": "execute_result"
    }
   ],
   "source": [
    "data= sf.fetch_data_from_table(selection= '*', table= 'telsee', limit=1 )\n",
    "data[1]"
   ]
  },
  {
   "cell_type": "code",
   "execution_count": 3,
   "metadata": {},
   "outputs": [
    {
     "data": {
      "text/plain": [
       "['ts',\n",
       " 'prio',\n",
       " 'ec',\n",
       " 'dimm_time',\n",
       " 'dimm_el',\n",
       " 'dimm_fwhm',\n",
       " 'dimm_fwhm_corr',\n",
       " 'mag1_time',\n",
       " 'mag1_el',\n",
       " 'mag1_fwhm',\n",
       " 'mag1_fwhm_corr',\n",
       " 'mag2_time',\n",
       " 'mag2_el',\n",
       " 'mag2_fwhm',\n",
       " 'mag2_fwhm_corr']"
      ]
     },
     "execution_count": 3,
     "metadata": {},
     "output_type": "execute_result"
    }
   ],
   "source": [
    "get_columns= sf.get_columns(table= 'telsee')\n",
    "get_columns"
   ]
  }
 ],
 "metadata": {
  "kernelspec": {
   "display_name": "sql",
   "language": "python",
   "name": "python3"
  },
  "language_info": {
   "codemirror_mode": {
    "name": "ipython",
    "version": 3
   },
   "file_extension": ".py",
   "mimetype": "text/x-python",
   "name": "python",
   "nbconvert_exporter": "python",
   "pygments_lexer": "ipython3",
   "version": "3.11.5"
  }
 },
 "nbformat": 4,
 "nbformat_minor": 2
}
