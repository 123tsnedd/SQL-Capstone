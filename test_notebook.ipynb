{
 "cells": [
  {
   "cell_type": "markdown",
   "metadata": {},
   "source": [
    "# Test file for sql command"
   ]
  },
  {
   "cell_type": "code",
   "execution_count": 1,
   "metadata": {},
   "outputs": [
    {
     "ename": "ModuleNotFoundError",
     "evalue": "No module named 'prettytable'",
     "output_type": "error",
     "traceback": [
      "\u001b[1;31m---------------------------------------------------------------------------\u001b[0m",
      "\u001b[1;31mModuleNotFoundError\u001b[0m                       Traceback (most recent call last)",
      "\u001b[1;32mc:\\Users\\snedd\\OneDrive\\UofA\\classes\\APCV 498 Senior Capstone\\SQL_project\\SQL-Capstone\\test_notebook.ipynb Cell 2\u001b[0m line \u001b[0;36m2\n\u001b[0;32m      <a href='vscode-notebook-cell:/c%3A/Users/snedd/OneDrive/UofA/classes/APCV%20498%20Senior%20Capstone/SQL_project/SQL-Capstone/test_notebook.ipynb#W1sZmlsZQ%3D%3D?line=0'>1</a>\u001b[0m \u001b[39mimport\u001b[39;00m \u001b[39msqlFile\u001b[39;00m \u001b[39mas\u001b[39;00m \u001b[39msf\u001b[39;00m\n\u001b[1;32m----> <a href='vscode-notebook-cell:/c%3A/Users/snedd/OneDrive/UofA/classes/APCV%20498%20Senior%20Capstone/SQL_project/SQL-Capstone/test_notebook.ipynb#W1sZmlsZQ%3D%3D?line=1'>2</a>\u001b[0m \u001b[39mfrom\u001b[39;00m \u001b[39mprettytable\u001b[39;00m \u001b[39mimport\u001b[39;00m PrettyTable\n",
      "\u001b[1;31mModuleNotFoundError\u001b[0m: No module named 'prettytable'"
     ]
    }
   ],
   "source": [
    "import sqlFile as sf\n",
    "from prettytable import PrettyTable"
   ]
  },
  {
   "cell_type": "code",
   "execution_count": 8,
   "metadata": {},
   "outputs": [
    {
     "data": {
      "text/plain": [
       "[(datetime.datetime(2023, 2, 27, 18, 8, 36, 79079),\n",
       "  'TELM',\n",
       "  'telem_telsee',\n",
       "  34697.0,\n",
       "  63.67,\n",
       "  -1.0,\n",
       "  -1.0,\n",
       "  33605.0,\n",
       "  82.26,\n",
       "  -1.0,\n",
       "  -1.0,\n",
       "  34206.0,\n",
       "  54.9,\n",
       "  -1.0,\n",
       "  -1.0)]"
      ]
     },
     "execution_count": 8,
     "metadata": {},
     "output_type": "execute_result"
    }
   ],
   "source": [
    "data= sf.fetch_data_from_table(selection= '*', table= 'telsee', limit=1 )\n",
    "data[1]\n",
    "\n",
    "# array of date times to be able to do stuff with\n",
    "\n",
    "# theres a matplotlib plotting for date"
   ]
  },
  {
   "cell_type": "code",
   "execution_count": 3,
   "metadata": {},
   "outputs": [
    {
     "data": {
      "text/plain": [
       "['ts',\n",
       " 'prio',\n",
       " 'ec',\n",
       " 'dimm_time',\n",
       " 'dimm_el',\n",
       " 'dimm_fwhm',\n",
       " 'dimm_fwhm_corr',\n",
       " 'mag1_time',\n",
       " 'mag1_el',\n",
       " 'mag1_fwhm',\n",
       " 'mag1_fwhm_corr',\n",
       " 'mag2_time',\n",
       " 'mag2_el',\n",
       " 'mag2_fwhm',\n",
       " 'mag2_fwhm_corr']"
      ]
     },
     "execution_count": 3,
     "metadata": {},
     "output_type": "execute_result"
    }
   ],
   "source": [
    "get_columns= sf.get_columns(table= 'telsee')\n",
    "get_columns"
   ]
  },
  {
   "cell_type": "code",
   "execution_count": 1,
   "metadata": {},
   "outputs": [
    {
     "name": "stdout",
     "output_type": "stream",
     "text": [
      "observers.ndjson\n",
      "tcsi_dump_2023.json\n"
     ]
    }
   ],
   "source": [
    "import os\n",
    "\n",
    "files = os.listdir('../data_files')\n",
    "for f in files:\n",
    "    print(f)"
   ]
  },
  {
   "cell_type": "code",
   "execution_count": 2,
   "metadata": {},
   "outputs": [],
   "source": [
    "import table_file as tf\n",
    "func = tf.build_all()"
   ]
  },
  {
   "cell_type": "code",
   "execution_count": 4,
   "metadata": {},
   "outputs": [
    {
     "data": {
      "text/plain": [
       "tuple"
      ]
     },
     "execution_count": 4,
     "metadata": {},
     "output_type": "execute_result"
    }
   ],
   "source": [
    "type(func)"
   ]
  },
  {
   "cell_type": "code",
   "execution_count": 6,
   "metadata": {},
   "outputs": [
    {
     "name": "stdout",
     "output_type": "stream",
     "text": [
      "\n",
      "    CREATE TABLE IF NOT EXISTS telpos(\n",
      "    ts TIMESTAMP,\n",
      "    prio VARCHAR(8),\n",
      "    ec VARCHAR(15),\n",
      "    epoch REAL,\n",
      "    ra REAL,\n",
      "    dec REAL,\n",
      "    el REAL,\n",
      "    ha REAL,\n",
      "    am REAL,\n",
      "    rotoff REAL,\n",
      "    PRIMARY KEY(ts)\n",
      "    );\n",
      "    \n"
     ]
    }
   ],
   "source": [
    "print(func[0])"
   ]
  },
  {
   "cell_type": "code",
   "execution_count": null,
   "metadata": {},
   "outputs": [],
   "source": []
  }
 ],
 "metadata": {
  "kernelspec": {
   "display_name": "sql",
   "language": "python",
   "name": "python3"
  },
  "language_info": {
   "codemirror_mode": {
    "name": "ipython",
    "version": 3
   },
   "file_extension": ".py",
   "mimetype": "text/x-python",
   "name": "python",
   "nbconvert_exporter": "python",
   "pygments_lexer": "ipython3",
   "version": "3.11.5"
  }
 },
 "nbformat": 4,
 "nbformat_minor": 2
}
